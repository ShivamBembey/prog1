{
 "cells": [
  {
   "cell_type": "code",
   "execution_count": 10,
   "id": "a75c3026",
   "metadata": {},
   "outputs": [
    {
     "name": "stdout",
     "output_type": "stream",
     "text": [
      "30 <class 'int'>\n",
      "30 <class 'str'>\n",
      "30.0 <class 'float'>\n"
     ]
    }
   ],
   "source": [
    "a = 30\n",
    "print(a, type(a))\n",
    "print(str(a), type(str(a)))\n",
    "print(float(a), type(float(a)))"
   ]
  },
  {
   "cell_type": "code",
   "execution_count": 1,
   "id": "ac3bff28",
   "metadata": {},
   "outputs": [
    {
     "name": "stdout",
     "output_type": "stream",
     "text": [
      "13\n"
     ]
    }
   ],
   "source": [
    "# Printing element of a list at index 4\n",
    "lst = [2,4,5,9,13,29]\n",
    "print(lst[4])"
   ]
  },
  {
   "cell_type": "code",
   "execution_count": 3,
   "id": "586ee8fe",
   "metadata": {},
   "outputs": [
    {
     "name": "stdout",
     "output_type": "stream",
     "text": [
      "9\n"
     ]
    }
   ],
   "source": [
    "# Printing element of a tuple at index -1\n",
    "tu = (1,3,5,7,9)\n",
    "print(tu[-1])"
   ]
  },
  {
   "cell_type": "code",
   "execution_count": 5,
   "id": "6627c317",
   "metadata": {},
   "outputs": [
    {
     "name": "stdout",
     "output_type": "stream",
     "text": [
      "Shivam\n"
     ]
    }
   ],
   "source": [
    "# Printing the \"Name\" value of the dictionary\n",
    "dic = {\"Name\": \"Shivam\",\n",
    "      \"Id\": 587,\n",
    "      \"Age\": 22}\n",
    "print(dic[\"Name\"])"
   ]
  },
  {
   "cell_type": "code",
   "execution_count": 6,
   "id": "aa8060de",
   "metadata": {},
   "outputs": [
    {
     "name": "stdout",
     "output_type": "stream",
     "text": [
      "{2, 3, 4, 7, 9}\n"
     ]
    }
   ],
   "source": [
    "# Printing element of a set\n",
    "s = {2,2,2,3,4,7,7,9}\n",
    "print(s)"
   ]
  }
 ],
 "metadata": {
  "kernelspec": {
   "display_name": "Python 3 (ipykernel)",
   "language": "python",
   "name": "python3"
  },
  "language_info": {
   "codemirror_mode": {
    "name": "ipython",
    "version": 3
   },
   "file_extension": ".py",
   "mimetype": "text/x-python",
   "name": "python",
   "nbconvert_exporter": "python",
   "pygments_lexer": "ipython3",
   "version": "3.9.12"
  }
 },
 "nbformat": 4,
 "nbformat_minor": 5
}
